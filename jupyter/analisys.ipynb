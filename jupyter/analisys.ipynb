{
 "cells": [
  {
   "cell_type": "code",
   "execution_count": 144,
   "metadata": {},
   "outputs": [],
   "source": [
    "import pandas as pd\n",
    "from IPython.display import display\n",
    "pd.options.display.max_columns = None"
   ]
  },
  {
   "cell_type": "code",
   "execution_count": 145,
   "metadata": {},
   "outputs": [],
   "source": [
    "df = pd.read_csv('weatherAUS.csv', parse_dates=['Date'])\n",
    "inf = pd.Timestamp(year=2008, month=12, day=1)\n",
    "sup = pd.Timestamp(year=2017, month=6, day=24)\n",
    "# 2008-12-01\n",
    "# 2017-06-24"
   ]
  },
  {
   "cell_type": "code",
   "execution_count": 146,
   "metadata": {},
   "outputs": [],
   "source": [
    "filtered = df[(df.Location == 'AliceSprings') | (df.Location == 'Canberra') | (df.Location == 'Darwin')][['Date', 'Location', 'MinTemp', 'MaxTemp', 'Rainfall', 'WindSpeed9am','WindSpeed3pm', 'Humidity9am', 'Humidity3pm']]"
   ]
  },
  {
   "cell_type": "code",
   "execution_count": 147,
   "metadata": {},
   "outputs": [
    {
     "data": {
      "text/plain": [
       "(3021, 3039, 3031)"
      ]
     },
     "execution_count": 147,
     "metadata": {},
     "output_type": "execute_result"
    }
   ],
   "source": [
    "filtered.reset_index()\n",
    "filtered = filtered.loc[(filtered.Date >= inf) & (filtered.Date <= sup)]\n",
    "filtered.index = pd.RangeIndex(len(filtered.index))\n",
    "final = filtered\n",
    "\n",
    "canberra = final.loc[final.Location == 'Canberra']\n",
    "alice = final.loc[final.Location == 'AliceSprings']\n",
    "darwin = final.loc[final.Location == 'Darwin']\n",
    "\n",
    "len(canberra), len(darwin), len(alice)"
   ]
  },
  {
   "cell_type": "code",
   "execution_count": 148,
   "metadata": {},
   "outputs": [],
   "source": [
    "darwin.to_csv('Darwin.csv', sep=',', encoding='utf-8', index=False)\n",
    "alice.to_csv('AliceSprings.csv', sep=',', encoding='utf-8', index=False)\n",
    "canberra.to_csv('Canberra.csv', sep=',', encoding='utf-8', index=False)"
   ]
  },
  {
   "cell_type": "code",
   "execution_count": null,
   "metadata": {},
   "outputs": [],
   "source": []
  }
 ],
 "metadata": {
  "kernelspec": {
   "display_name": "Python 3",
   "language": "python",
   "name": "python3"
  },
  "language_info": {
   "codemirror_mode": {
    "name": "ipython",
    "version": 3
   },
   "file_extension": ".py",
   "mimetype": "text/x-python",
   "name": "python",
   "nbconvert_exporter": "python",
   "pygments_lexer": "ipython3",
   "version": "3.7.3"
  }
 },
 "nbformat": 4,
 "nbformat_minor": 2
}
